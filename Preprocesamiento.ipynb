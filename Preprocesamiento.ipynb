{
 "cells": [
  {
   "cell_type": "markdown",
   "metadata": {},
   "source": [
    "# Pre-procesamiento de un Conjunto de Datos del Clima\n",
    "\n",
    "En este notebook se muestra un ejemplo de preprocesamiento de datos, en este caso es un conjunto de datos climatico en Australia.\n",
    "\n",
    "Este set de datos puede ser descargado del siguiente link:\n",
    "\n",
    "https://www.kaggle.com/jsphyg/weather-dataset-rattle-package"
   ]
  },
  {
   "cell_type": "markdown",
   "metadata": {},
   "source": [
    "Se iniciara por cargar las bibliotecas necesarias para el pre-procesamiento"
   ]
  },
  {
   "cell_type": "code",
   "execution_count": null,
   "metadata": {},
   "outputs": [],
   "source": [
    "import numpy as np\n",
    "import pandas as pd\n",
    "from matplotlib import pyplot as plt\n",
    "from sklearn import preprocessing\n",
    "%matplotlib inline"
   ]
  },
  {
   "cell_type": "markdown",
   "metadata": {},
   "source": [
    "Se comenzara por cargar los datos a memoria y mostrar una muestra de estos"
   ]
  },
  {
   "cell_type": "code",
   "execution_count": null,
   "metadata": {},
   "outputs": [],
   "source": [
    "weather_results = pd.read_csv(\"weatherAUS.csv\")\n",
    "weather_results.sample(10)"
   ]
  },
  {
   "cell_type": "markdown",
   "metadata": {},
   "source": [
    "Estos datos tienen varios problemas que deben de ser abordados antes de poder ser utilizados en un algoritmo.\n",
    "\n",
    "* Se tienen valores de NaN que no dan informacion sobre el problema\n",
    "* La direccion del viento viene especificada por una direccion en la brujula y no por un valor numerico\n",
    "* Los valores de lluvia vienen especificados por valores de Si y No"
   ]
  },
  {
   "cell_type": "markdown",
   "metadata": {},
   "source": [
    "Se compenzara por reemplazar `Yes` y `No` por valores numericos"
   ]
  },
  {
   "cell_type": "code",
   "execution_count": null,
   "metadata": {},
   "outputs": [],
   "source": [
    "weather_results.replace(to_replace='Yes', value = 1, inplace = True)\n",
    "weather_results.replace(to_replace='No',  value = 0, inplace = True)\n",
    "weather_results.sample(10)"
   ]
  },
  {
   "cell_type": "markdown",
   "metadata": {},
   "source": [
    "Los valores que aun no son numericos son los de direccion, los cuales se encuentran codificacods segun su direccion cardinal: `N`, `S`, etc..\n",
    "\n",
    "Convertir estos valores a angulos no es practico dado que dos direcciones por ejemplo 1 y 359 sus valores incluso normalizados muy distintos a pesar de en la practica sus direcciones on muy iguales\n",
    "\n",
    "Alternativas propuestas en https://stats.stackexchange.com/questions/218407/encoding-angle-data-for-neural-network y en https://stackoverflow.com/questions/20382484/periodic-data-with-machine-learning-like-degree-angles-179-is-2-different-fr son las de convertir este feature en dos features separados, representados por el coseno y seno de los angulos, este approach se usara para normalizar estos angulos."
   ]
  },
  {
   "cell_type": "code",
   "execution_count": null,
   "metadata": {},
   "outputs": [],
   "source": [
    "directions = [\"N\",\"NNE\",\"NE\",\"ENE\",\"E\",\"ESE\", \"SE\", \"SSE\",\"S\",\"SSW\",\"SW\",\"WSW\",\"W\",\"WNW\",\"NW\",\"NNW\"]\n",
    "\n",
    "def compassToDeg(compass_direction):\n",
    "    global directions\n",
    "    index = directions.index(compass_direction)\n",
    "    angle = index * 22.5\n",
    "    return angle\n",
    "\n",
    "def windGustDirConvert(direction):\n",
    "    global directions\n",
    "    if direction['WindGustDir'] in directions:\n",
    "        return compassToDeg(direction['WindGustDir'])\n",
    "\n",
    "def windDir9amConvert(direction):\n",
    "    global directions\n",
    "    if direction['WindDir9am'] in directions:\n",
    "        return compassToDeg(direction['WindDir9am'])\n",
    "\n",
    "def windDir3pmConvert(direction):\n",
    "    global directions\n",
    "    if direction['WindDir3pm'] in directions:\n",
    "        return compassToDeg(direction['WindDir3pm'])\n",
    "\n",
    "windGustDirAngle = weather_results.filter(regex=r'WindGustDir').apply(windGustDirConvert, axis=1)\n",
    "windDir9amAngle = weather_results.filter(regex=r'WindDir9am').apply(windDir9amConvert, axis=1)\n",
    "windDir3pmAngle = weather_results.filter(regex=r'WindDir3pm').apply(windDir3pmConvert, axis=1)\n",
    "\n",
    "windGustDirAngleCos = windGustDirAngle.apply(np.cos)\n",
    "windGustDirAngleSin = windGustDirAngle.apply(np.sin)\n",
    "windDir9amAngleCos = windDir9amAngle.apply(np.cos)\n",
    "windDir9amAngleSin = windDir9amAngle.apply(np.sin)\n",
    "windDir3pmAngleCos = windDir3pmAngle.apply(np.cos)\n",
    "windDir3pmAngleSin = windDir3pmAngle.apply(np.sin)\n",
    "\n",
    "del weather_results['WindGustDir']\n",
    "del weather_results['WindDir9am']\n",
    "del weather_results['WindDir3pm']\n",
    "\n",
    "weather_results['windGustDirAngleCos'] = windGustDirAngleCos\n",
    "weather_results['windGustDirAngleSin'] = windGustDirAngleSin\n",
    "weather_results['windDir9amAngleCos'] = windDir9amAngleCos\n",
    "weather_results['windDir9amAngleSin'] = windDir9amAngleSin\n",
    "weather_results['windDir3pmAngleCos'] = windDir3pmAngleCos\n",
    "weather_results['windDir3pmAngleSin'] = windDir3pmAngleSin\n",
    "\n",
    "weather_results.sample(10)"
   ]
  },
  {
   "cell_type": "markdown",
   "metadata": {},
   "source": [
    "Ahora que todos los valores buscados son numericos se reemplazara `NaN` por la media respectiva"
   ]
  },
  {
   "cell_type": "code",
   "execution_count": null,
   "metadata": {
    "scrolled": true
   },
   "outputs": [],
   "source": [
    "weather_results.fillna(weather_results.mean(), inplace = True)\n",
    "weather_results.sample(10)"
   ]
  },
  {
   "cell_type": "markdown",
   "metadata": {},
   "source": [
    "A continuacion se muestra el codigo para normalizar todas las columnas, esto puede ser util, pero en este caso se obviara debido a que este no toma en cuenta la dependencia entre las distinas columnas.\n",
    "\n",
    "Por ejemplo los valores de `MinTemp` y `MaxTemp`, los valores de velocidad del viento o de direccion de este deberian de ser normalizados en conjunto."
   ]
  },
  {
   "cell_type": "code",
   "execution_count": null,
   "metadata": {
    "scrolled": true
   },
   "outputs": [],
   "source": [
    "# weather_numpy = weather_results.select_dtypes(include=[np.number])\n",
    "# weather_norm = (weather_numpy - weather_numpy.min()) / (weather_numpy.max() - weather_numpy.min())\n",
    "# weather_results[weather_norm.columns] = weather_norm\n",
    "\n",
    "# weather_results.sample(10)"
   ]
  },
  {
   "cell_type": "markdown",
   "metadata": {},
   "source": [
    "Finalmente el dato numerico restante corresponde a la ubicacion, este no se puede normalizar dado que estos no tienen un orden logico que sea representado por el mundo real.\n",
    "\n",
    "Estos sin embargo pueden ser utilizados como entrada para la normalizacion de otras variables. Por ejemplo en lugar de usar la media, maximo y minimo global de todo el conjunto de datos estos se pueden normalizar segun la ubicacion, estoy puede evitar suprimir diferencias entre distintas ubicaciones como por ejemplo zonas costeras y montanhosas las cuales tendran distintos rangos.\n",
    "\n",
    "Esto podria ser mezclado con la direccion del viento para "
   ]
  },
  {
   "cell_type": "markdown",
   "metadata": {},
   "source": [
    "# Visualizacion de datos"
   ]
  },
  {
   "cell_type": "markdown",
   "metadata": {},
   "source": [
    "En la figura siguiente se puede observar como sus distribuciones tiene una distribucion gaussiana, como es de esperarse la temperatura maxima tiene una media mayor. En caso de que estos datos deseen normalizarse debe de mantenerse esta relacion."
   ]
  },
  {
   "cell_type": "code",
   "execution_count": null,
   "metadata": {},
   "outputs": [],
   "source": [
    "weather_results[\"MinTemp\"].plot.hist(bins=20, alpha=0.5)\n",
    "weather_results[\"MaxTemp\"].plot.hist(bins=20, alpha=0.5)"
   ]
  },
  {
   "cell_type": "markdown",
   "metadata": {},
   "source": [
    "Para otros parametros se tiene otro tipo de distribucion, por ejemplo en el caso de la lluvia la mayoria de los parametros indican una lluvia de 0. Todos los valores nulos tambien seran asignados a un valor cercano a este en una normalizacion."
   ]
  },
  {
   "cell_type": "code",
   "execution_count": null,
   "metadata": {},
   "outputs": [],
   "source": [
    "weather_results[\"Rainfall\"].plot.hist(bins=20)"
   ]
  },
  {
   "cell_type": "markdown",
   "metadata": {},
   "source": [
    "De igual manera en el caso del sol, dado que se utiliza la media para los valores desconocidos estos incrementan significativamente el valor al asignarse todos estos a la media. "
   ]
  },
  {
   "cell_type": "code",
   "execution_count": null,
   "metadata": {},
   "outputs": [],
   "source": [
    "weather_results[\"Sunshine\"].plot.hist(bins=20)"
   ]
  },
  {
   "cell_type": "code",
   "execution_count": null,
   "metadata": {},
   "outputs": [],
   "source": []
  },
  {
   "cell_type": "code",
   "execution_count": null,
   "metadata": {},
   "outputs": [],
   "source": [
    "weather_results[\"WindGustSpeed\"].plot.hist(bins=20, alpha=0.33)\n",
    "weather_results[\"WindSpeed9am\"].plot.hist(bins=20, alpha=0.33)\n",
    "weather_results[\"WindSpeed3pm\"].plot.hist(bins=20, alpha=0.33)"
   ]
  },
  {
   "cell_type": "markdown",
   "metadata": {},
   "source": [
    "Los valores de direccion del viento tienen una distribucion uniforme lo que representa que el viento puede llegar de cualquier ubicacion."
   ]
  },
  {
   "cell_type": "code",
   "execution_count": null,
   "metadata": {},
   "outputs": [],
   "source": [
    "weather_results[\"windGustDirAngleCos\"].plot.hist(bins=16, alpha=0.5)\n",
    "weather_results[\"windGustDirAngleSin\"].plot.hist(bins=16, alpha=0.5)"
   ]
  },
  {
   "cell_type": "code",
   "execution_count": null,
   "metadata": {},
   "outputs": [],
   "source": [
    "weather_results[\"windDir9amAngleCos\"].plot.hist(bins=16, alpha=0.5)\n",
    "weather_results[\"windDir9amAngleSin\"].plot.hist(bins=16, alpha=0.5)"
   ]
  },
  {
   "cell_type": "code",
   "execution_count": null,
   "metadata": {},
   "outputs": [],
   "source": [
    "weather_results[\"windDir3pmAngleCos\"].plot.hist(bins=16, alpha=0.5)\n",
    "weather_results[\"windDir3pmAngleSin\"].plot.hist(bins=16, alpha=0.5)"
   ]
  }
 ],
 "metadata": {
  "kernelspec": {
   "display_name": "Python 3",
   "language": "python",
   "name": "python3"
  },
  "language_info": {
   "codemirror_mode": {
    "name": "ipython",
    "version": 3
   },
   "file_extension": ".py",
   "mimetype": "text/x-python",
   "name": "python",
   "nbconvert_exporter": "python",
   "pygments_lexer": "ipython3",
   "version": "3.8.3"
  }
 },
 "nbformat": 4,
 "nbformat_minor": 4
}
